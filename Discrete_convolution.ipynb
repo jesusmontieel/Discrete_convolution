{
 "cells": [
  {
   "cell_type": "markdown",
   "id": "03cf6fc6",
   "metadata": {},
   "source": [
    "# Discrete Convolution"
   ]
  },
  {
   "cell_type": "markdown",
   "id": "b5797f8e",
   "metadata": {},
   "source": [
    "The current code is an algorithm to calculate the discrete convolution of two discrete causal signals. It plots the original signals and their convolution. \n",
    "To run this code it's necessary to have the arrays corresponding to the values of the functions $x[n]$ and $h[n]$.\n",
    "Remember that the discrete convolution, $c[n]$, of two discrete signals, $x[n]$ and $h[n]$, is given by:\n",
    "\\begin{equation*}\n",
    "c[n] = x[n]\\ast h[n] = \\sum\\limits_{m\\;=\\;-\\infty}^{\\infty}x[m]h[n-m].\n",
    "\\end{equation*}"
   ]
  },
  {
   "cell_type": "code",
   "execution_count": 1,
   "id": "dadd4d25",
   "metadata": {},
   "outputs": [],
   "source": [
    "import numpy as np\n",
    "import pandas as pd\n",
    "import matplotlib.pyplot as plt"
   ]
  },
  {
   "cell_type": "code",
   "execution_count": 2,
   "id": "be11ee49",
   "metadata": {},
   "outputs": [],
   "source": [
    "def discrete_convolution(x,h):\n",
    "    h_reversed = h[::-1]\n",
    "    h_aux = [0]*max(len(x),len(h))*2\n",
    "    for i in range(0,len(h),1):\n",
    "        h_aux[i] = h_reversed[i]\n",
    "    convolution = []\n",
    "    h_for_shift = []\n",
    "    c_x_ax = []\n",
    "    x_x_ax = []\n",
    "    h_x_ax = []\n",
    "    if len(x)>len(h):\n",
    "        for i in range(1,max(len(x),len(h))+len(h),1):\n",
    "            h_for_shift = list(np.roll(h_aux,i))\n",
    "            convolution.append(np.array(h_for_shift[len(h):max(len(x),len(h))+len(h)]).dot(x))        \n",
    "    elif len(x)<len(h):\n",
    "        for i in range(1,min(len(x),len(h))+len(h),1):\n",
    "            h_for_shift = list(np.roll(h_aux,i))\n",
    "            convolution.append(np.array(h_for_shift[len(h):min(len(x),len(h))+len(h)]).dot(x))\n",
    "    else:\n",
    "        for i in range(1,max(len(x),len(h))+len(h),1):\n",
    "            h_for_shift = list(np.roll(h_aux,i))\n",
    "            convolution.append(np.array(h_for_shift[len(h):max(len(x),len(h))+len(h)]).dot(x))\n",
    "    for i in range(0,len(convolution),1):\n",
    "        c_x_ax.append(i)\n",
    "    for i in range(0,len(x),1):\n",
    "        x_x_ax.append(i)\n",
    "    for i in range(0,len(h),1):\n",
    "        h_x_ax.append(i)\n",
    "    fig, axs = plt.subplots(3)\n",
    "    fig.suptitle('Convolution of two discrete signals')\n",
    "    axs[0].stem(x_x_ax, x)\n",
    "    axs[1].stem(h_x_ax, h)\n",
    "    axs[2].stem(c_x_ax, convolution)\n",
    "    axs[0].set_xlabel(\"$n$\"), axs[0].set_ylabel(\"$x[n]$\"), axs[0].set_xlim([-1,c_x_ax[-1]+1])\n",
    "    axs[0].set_ylim([-min(x)-1,max(x)+1])\n",
    "    axs[1].set_xlabel(\"$n$\"), axs[1].set_ylabel(\"$h[n]$\"), axs[1].set_xlim([-1,c_x_ax[-1]+1])\n",
    "    axs[1].set_ylim([-min(h)-1,max(h)+2])\n",
    "    axs[2].set_xlabel(\"$n$\"), axs[2].set_ylabel(\"$c[n]$\"), axs[2].set_xlim([-1,c_x_ax[-1]+1])\n",
    "    axs[2].set_ylim([-min(convolution)-1,max(convolution)+1])\n",
    "    fig.subplots_adjust(hspace=0.9)\n",
    "    plt.show()\n",
    "    return print(\"The values of c[n] are: \", convolution)"
   ]
  },
  {
   "cell_type": "code",
   "execution_count": 3,
   "id": "8e63d603",
   "metadata": {},
   "outputs": [
    {
     "data": {
      "image/png": "[encoded data removed]",
      "text/plain": [
       "<Figure size 432x288 with 3 Axes>"
      ]
     },
     "metadata": {
      "needs_background": "light"
     },
     "output_type": "display_data"
    },
    {
     "name": "stdout",
     "output_type": "stream",
     "text": [
      "The values of c[n] are:  [0, 1, 3, 6, 8, 9, 9, 8, 6, 3, 1, 0]\n"
     ]
    }
   ],
   "source": [
    "x = [0,1,2,3,2,1,0]\n",
    "h = [1,1,1,1,1,1]\n",
    "discrete_convolution(x,h)"
   ]
  }
 ],
 "metadata": {
  "celltoolbar": "Raw Cell Format",
  "kernelspec": {
   "display_name": "Python 3 (ipykernel)",
   "language": "python",
   "name": "python3"
  },
  "language_info": {
   "codemirror_mode": {
    "name": "ipython",
    "version": 3
   },
   "file_extension": ".py",
   "mimetype": "text/x-python",
   "name": "python",
   "nbconvert_exporter": "python",
   "pygments_lexer": "ipython3",
   "version": "3.9.7"
  }
 },
 "nbformat": 4,
 "nbformat_minor": 5
}
